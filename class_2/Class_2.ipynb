{
  "cells": [
    {
      "cell_type": "code",
      "execution_count": null,
      "metadata": {
        "colab": {
          "base_uri": "https://localhost:8080/"
        },
        "id": "P6W5LGFe3G4i",
        "outputId": "265beadc-ccb6-4983-9413-e79e86e35c93"
      },
      "outputs": [
        {
          "name": "stdout",
          "output_type": "stream",
          "text": [
            "This is my second class of Python...\n"
          ]
        }
      ],
      "source": [
        "# indenation\n",
        "if True:\n",
        "  print(\"This is my second class of Python...\")\n",
        "\n",
        "# comments\n",
        "# if True:\n",
        "#   print(\"This is my second class of Python...\")\n"
      ]
    },
    {
      "cell_type": "code",
      "execution_count": null,
      "metadata": {
        "colab": {
          "base_uri": "https://localhost:8080/"
        },
        "id": "y_LtJPa94WeH",
        "outputId": "252096a6-cc55-4de6-d393-80263a6cffee"
      },
      "outputs": [
        {
          "name": "stdout",
          "output_type": "stream",
          "text": [
            "My name is  Abdur Rehman\n",
            "3.14159\n"
          ]
        }
      ],
      "source": [
        "# variables and constants\n",
        "name = \"Abdur Rehman\"\n",
        "print(\"My name is \", name)\n",
        "\n",
        "PI = 3.14159\n",
        "print(PI)"
      ]
    },
    {
      "cell_type": "code",
      "execution_count": null,
      "metadata": {
        "colab": {
          "base_uri": "https://localhost:8080/"
        },
        "id": "KijUEB9754eL",
        "outputId": "6466dbfb-33ad-4489-f0bc-011f99e32ad5"
      },
      "outputs": [
        {
          "name": "stdout",
          "output_type": "stream",
          "text": [
            "Enter your name: Abdur Rehman\n",
            "My name is  Abdur Rehman\n",
            "<class 'str'>\n"
          ]
        }
      ],
      "source": [
        "# input and output functions\n",
        "name = input(\"Enter your name: \")\n",
        "print(\"My name is \", name)\n",
        "\n",
        "print(type(name))"
      ]
    },
    {
      "cell_type": "code",
      "execution_count": null,
      "metadata": {
        "colab": {
          "base_uri": "https://localhost:8080/"
        },
        "id": "rd7nPrpt6VL9",
        "outputId": "136d11db-40f6-4140-8cf8-378352029675"
      },
      "outputs": [
        {
          "name": "stdout",
          "output_type": "stream",
          "text": [
            "Real number is  4.0\n",
            "Imaginary number is  3.0\n"
          ]
        }
      ],
      "source": [
        "# Primitive Data type\n",
        "x = 10\n",
        "y = 10.01\n",
        "z = 4 + 3j\n",
        "\n",
        "print(\"Real number is \", z.real)\n",
        "print(\"Imaginary number is \", z.imag)"
      ]
    },
    {
      "cell_type": "code",
      "execution_count": null,
      "metadata": {
        "colab": {
          "base_uri": "https://localhost:8080/"
        },
        "id": "cxd1XK2a7FQM",
        "outputId": "40f8b152-fcdb-416b-f950-d6f87b2176ba"
      },
      "outputs": [
        {
          "name": "stdout",
          "output_type": "stream",
          "text": [
            "First letter:  T\n",
            "p is at p\n",
            "This is my second class\n"
          ]
        }
      ],
      "source": [
        "# string\n",
        "\n",
        "sentence = \"This is my second class of python\"\n",
        "print(\"First letter: \", sentence[0])\n",
        "print(\"p is at\", sentence[-6])\n",
        "\n",
        "# string slicing\n",
        "print(sentence[0:23])"
      ]
    },
    {
      "cell_type": "code",
      "execution_count": null,
      "metadata": {
        "colab": {
          "base_uri": "https://localhost:8080/"
        },
        "id": "rNnFc8eE7fXP",
        "outputId": "1d97c084-d77d-4abe-d233-600cbe96f982"
      },
      "outputs": [
        {
          "name": "stdout",
          "output_type": "stream",
          "text": [
            "[1, 2, 3, 4, 5, 6]\n",
            "Abdur Rehman\n"
          ]
        }
      ],
      "source": [
        "# lists\n",
        "numbers_list = [1, 2, 3, 4, 5]\n",
        "numbers_list.append(6)\n",
        "print(numbers_list)\n",
        "\n",
        "# tuples\n",
        "numbers_tuple = (1, 2, 3, 4, 5)\n",
        "\n",
        "# dictionaries\n",
        "person = {\n",
        "    \"name\": \"Abdur Rehman\",\n",
        "    \"age\": 20,\n",
        "    \"city\": \"Islamabad\"\n",
        "}\n",
        "print(person[\"name\"])"
      ]
    },
    {
      "cell_type": "code",
      "execution_count": null,
      "metadata": {
        "colab": {
          "base_uri": "https://localhost:8080/"
        },
        "id": "0Magicpv_Gmf",
        "outputId": "91e28bcc-06bf-4dd9-9240-baba4b7d3f07"
      },
      "outputs": [
        {
          "name": "stdout",
          "output_type": "stream",
          "text": [
            "20.009999999999998\n",
            "<class 'float'>\n"
          ]
        }
      ],
      "source": [
        "# implicit conversion\n",
        "x = 10\n",
        "y = 10.01\n",
        "z = x + y\n",
        "print(z)\n",
        "print(type(z))"
      ]
    },
    {
      "cell_type": "code",
      "execution_count": null,
      "metadata": {
        "colab": {
          "base_uri": "https://localhost:8080/"
        },
        "id": "3D6mUeQs_c4R",
        "outputId": "6091c269-1867-4954-a1a5-ebdb4af3acd3"
      },
      "outputs": [
        {
          "name": "stdout",
          "output_type": "stream",
          "text": [
            "<class 'str'>\n",
            "<class 'int'>\n",
            "36\n"
          ]
        }
      ],
      "source": [
        "#explicit conversion\n",
        "\n",
        "age = \"26\"\n",
        "print(type(age))\n",
        "integer = 10\n",
        "\n",
        "age = int(age)\n",
        "print(type(age))\n",
        "print(age + integer)"
      ]
    },
    {
      "cell_type": "code",
      "execution_count": null,
      "metadata": {
        "colab": {
          "base_uri": "https://localhost:8080/"
        },
        "id": "plV_9m6aAcZ0",
        "outputId": "a76b7754-79c6-45a4-ec94-6e7a51fe561b"
      },
      "outputs": [
        {
          "name": "stdout",
          "output_type": "stream",
          "text": [
            "Addition:  14\n",
            "Subtraction:  -6\n",
            "Multiplication:  40\n",
            "Division:  0.4\n",
            "Floor Division 0\n",
            "Equal:  False\n",
            "Not Equal:  True\n",
            "Greater Than:  False\n",
            "Less Than:  True\n",
            "AND:  False\n",
            "OR:  True\n",
            "NOT:  False\n",
            "15\n"
          ]
        }
      ],
      "source": [
        "# Operators\n",
        "# Arithmetic Operators\n",
        "\n",
        "num1 = 4\n",
        "num2 = 10\n",
        "\n",
        "print(\"Addition: \", num1 + num2)\n",
        "print(\"Subtraction: \", num1 - num2)\n",
        "print(\"Multiplication: \", num1 * num2)\n",
        "print(\"Division: \", num1 / num2)\n",
        "print (\"Floor Division\", num1 // num2)\n",
        "\n",
        "# Comparison Operators\n",
        "print(\"Equal: \", num1 == num2)\n",
        "print(\"Not Equal: \", num1 != num2)\n",
        "print(\"Greater Than: \", num1 > num2)\n",
        "print(\"Less Than: \", num1 < num2)\n",
        "\n",
        "# Logical Operators\n",
        "p = True\n",
        "q = False\n",
        "print(\"AND: \", p and q)\n",
        "print(\"OR: \", p or q)\n",
        "print(\"NOT: \", not p)\n",
        "\n",
        "# Assignment Operator\n",
        "a = 10\n",
        "a += 5\n",
        "print(a)"
      ]
    },
    {
      "cell_type": "code",
      "execution_count": null,
      "metadata": {
        "colab": {
          "base_uri": "https://localhost:8080/"
        },
        "id": "29w7wS39Bcwd",
        "outputId": "ef51eed4-55b1-4049-f915-ca09f5f5c7ff"
      },
      "outputs": [
        {
          "name": "stdout",
          "output_type": "stream",
          "text": [
            "12\n",
            "['Abdur', 'Rehman']\n"
          ]
        }
      ],
      "source": [
        "#length function\n",
        "name = \"Abdur Rehman\"\n",
        "print(len(name))\n",
        "\n",
        "#split function\n",
        "print(name.split())"
      ]
    },
    {
      "cell_type": "code",
      "execution_count": null,
      "metadata": {
        "colab": {
          "base_uri": "https://localhost:8080/"
        },
        "id": "ZdVQZ-DKBoan",
        "outputId": "a6b6e6cb-196a-424f-d357-d641c4268d3c"
      },
      "outputs": [
        {
          "name": "stdout",
          "output_type": "stream",
          "text": [
            "9\n",
            "0.5687489185255874\n",
            "Orange\n"
          ]
        }
      ],
      "source": [
        "#random fucntion\n",
        "import random\n",
        "print(random.randint(1, 10))\n",
        "print(random.random())\n",
        "items = ['Apple', 'Banana', 'Orange']\n",
        "print(random.shuffle(items))"
      ]
    }
  ],
  "metadata": {
    "colab": {
      "provenance": []
    },
    "kernelspec": {
      "display_name": "Python 3",
      "name": "python3"
    },
    "language_info": {
      "name": "python"
    }
  },
  "nbformat": 4,
  "nbformat_minor": 0
}
