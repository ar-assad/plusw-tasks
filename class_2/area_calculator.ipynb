{
 "cells": [
  {
   "cell_type": "code",
   "execution_count": 1,
   "metadata": {},
   "outputs": [
    {
     "name": "stdout",
     "output_type": "stream",
     "text": [
      "Calculate the area of following shapes:\n",
      "1. Circle\n",
      "2. Rectangle\n",
      "3. Square\n",
      "4. Triangle\n",
      "Find the area of Circle: \n",
      "\n"
     ]
    },
    {
     "name": "stdin",
     "output_type": "stream",
     "text": [
      "Enter the radius of the circle:  4\n"
     ]
    },
    {
     "name": "stdout",
     "output_type": "stream",
     "text": [
      "Find the area of Rectangle: \n",
      "\n"
     ]
    },
    {
     "name": "stdin",
     "output_type": "stream",
     "text": [
      "Enter the length of the rectangle:  5\n",
      "Enter the width of the rectangle:  2\n"
     ]
    },
    {
     "name": "stdout",
     "output_type": "stream",
     "text": [
      "Find the area of Square: \n",
      "\n"
     ]
    },
    {
     "name": "stdin",
     "output_type": "stream",
     "text": [
      "Enter the side length of the square:  3\n"
     ]
    },
    {
     "name": "stdout",
     "output_type": "stream",
     "text": [
      "Find the area of Triangle: \n",
      "\n"
     ]
    },
    {
     "name": "stdin",
     "output_type": "stream",
     "text": [
      "Enter the base of the triangle:  6\n",
      "Enter the height of the triangle:  4\n"
     ]
    },
    {
     "name": "stdout",
     "output_type": "stream",
     "text": [
      "All the areas are: \n",
      "\n",
      "The area of the circle is: 50.26544 \n",
      "\n",
      "The area of the rectangle is: 10.0 \n",
      "\n",
      "The area of the square is: 9.0 \n",
      "\n",
      "The area of the triangle is: 12.0 \n",
      "\n"
     ]
    }
   ],
   "source": [
    "# Print shape options\n",
    "print(\"Calculate the area of following shapes:\")\n",
    "print(\"1. Circle\")\n",
    "print(\"2. Rectangle\")\n",
    "print(\"3. Square\")\n",
    "print(\"4. Triangle\")\n",
    "\n",
    "# User input for shape choice (not used for branching)\n",
    "print(\"Find the area of Circle: \\n\")\n",
    "\n",
    "# Circle area calculation\n",
    "radius = float(input(\"Enter the radius of the circle: \"))\n",
    "PI = 3.14159\n",
    "circle_area = PI * radius * radius  \n",
    "print(\"Find the area of Rectangle: \\n\")\n",
    "\n",
    "# Rectangle area calculation\n",
    "length = float(input(\"Enter the length of the rectangle: \"))\n",
    "width = float(input(\"Enter the width of the rectangle: \"))\n",
    "rectangle_area = length * width\n",
    "print(\"Find the area of Square: \\n\")\n",
    "\n",
    "# Square area calculation\n",
    "side = float(input(\"Enter the side length of the square: \"))\n",
    "square_area = side * side\n",
    "print(\"Find the area of Triangle: \\n\")\n",
    "\n",
    "# Triangle area calculation\n",
    "base = float(input(\"Enter the base of the triangle: \"))\n",
    "height = float(input(\"Enter the height of the triangle: \"))\n",
    "triangle_area = 0.5 * base * height\n",
    "\n",
    "# Print all areas\n",
    "print(\"All the areas are: \\n\")\n",
    "print(\"The area of the circle is:\", circle_area, \"\\n\")\n",
    "print(\"The area of the rectangle is:\", rectangle_area, \"\\n\")\n",
    "print(\"The area of the square is:\", square_area, \"\\n\")\n",
    "print(\"The area of the triangle is:\", triangle_area, \"\\n\")\n"
   ]
  }
 ],
 "metadata": {
  "anaconda-cloud": {},
  "kernelspec": {
   "display_name": "Python 3 (ipykernel)",
   "language": "python",
   "name": "python3"
  },
  "language_info": {
   "codemirror_mode": {
    "name": "ipython",
    "version": 3
   },
   "file_extension": ".py",
   "mimetype": "text/x-python",
   "name": "python",
   "nbconvert_exporter": "python",
   "pygments_lexer": "ipython3",
   "version": "3.12.8"
  }
 },
 "nbformat": 4,
 "nbformat_minor": 4
}
