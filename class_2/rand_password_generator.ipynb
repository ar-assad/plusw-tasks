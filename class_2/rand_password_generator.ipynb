{
 "cells": [
  {
   "cell_type": "code",
   "execution_count": 1,
   "metadata": {},
   "outputs": [
    {
     "name": "stdout",
     "output_type": "stream",
     "text": [
      "Selected Color: purple\n",
      "Generated Password: elprup\n"
     ]
    }
   ],
   "source": [
    "import random\n",
    "\n",
    "# List of colors\n",
    "colors = [\"red\", \"blue\", \"green\", \"yellow\", \"orange\", \"purple\"]\n",
    "\n",
    "# Generate a random index\n",
    "index = random.randint(0, len(colors) - 1)\n",
    "\n",
    "# Select the color\n",
    "selected_color = colors[index]\n",
    "\n",
    "# Reverse the selected color for the password\n",
    "password = selected_color[::-1]\n",
    "\n",
    "# Print the results\n",
    "print(\"Selected Color:\", selected_color)\n",
    "print(\"Generated Password:\", password)\n"
   ]
  }
 ],
 "metadata": {
  "anaconda-cloud": {},
  "kernelspec": {
   "display_name": "Python 3 (ipykernel)",
   "language": "python",
   "name": "python3"
  },
  "language_info": {
   "codemirror_mode": {
    "name": "ipython",
    "version": 3
   },
   "file_extension": ".py",
   "mimetype": "text/x-python",
   "name": "python",
   "nbconvert_exporter": "python",
   "pygments_lexer": "ipython3",
   "version": "3.12.8"
  }
 },
 "nbformat": 4,
 "nbformat_minor": 4
}
