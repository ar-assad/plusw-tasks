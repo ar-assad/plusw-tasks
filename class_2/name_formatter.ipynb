{
 "cells": [
  {
   "cell_type": "code",
   "execution_count": 2,
   "metadata": {},
   "outputs": [
    {
     "name": "stdin",
     "output_type": "stream",
     "text": [
      "Enter your first name:  Abdur Rehman\n",
      "Enter your last name:  Assad\n"
     ]
    },
    {
     "name": "stdout",
     "output_type": "stream",
     "text": [
      "First name (upper): ABDUR REHMAN\n",
      "Last name (lower): assad\n",
      "Sum of letters in your first and last name: 17\n"
     ]
    }
   ],
   "source": [
    "# Input first and last name\n",
    "first_name = input(\"Enter your first name: \")\n",
    "last_name = input(\"Enter your last name: \")\n",
    "\n",
    "# Convert first name to uppercase and last name to lowercase\n",
    "first_name = first_name.upper()\n",
    "last_name = last_name.lower()\n",
    "\n",
    "# Calculate and print the sum of the letters\n",
    "total_letters = len(first_name) + len(last_name)\n",
    "\n",
    "# Print the formatted output\n",
    "print(f\"First name (upper): {first_name}\")\n",
    "print(f\"Last name (lower): {last_name}\")\n",
    "print(\"Sum of letters in your first and last name:\", total_letters)\n"
   ]
  }
 ],
 "metadata": {
  "anaconda-cloud": {},
  "kernelspec": {
   "display_name": "Python 3 (ipykernel)",
   "language": "python",
   "name": "python3"
  },
  "language_info": {
   "codemirror_mode": {
    "name": "ipython",
    "version": 3
   },
   "file_extension": ".py",
   "mimetype": "text/x-python",
   "name": "python",
   "nbconvert_exporter": "python",
   "pygments_lexer": "ipython3",
   "version": "3.12.8"
  }
 },
 "nbformat": 4,
 "nbformat_minor": 4
}
