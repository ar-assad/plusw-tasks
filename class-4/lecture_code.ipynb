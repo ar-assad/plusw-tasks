{
  "nbformat": 4,
  "nbformat_minor": 0,
  "metadata": {
    "colab": {
      "provenance": []
    },
    "kernelspec": {
      "name": "python3",
      "display_name": "Python 3"
    },
    "language_info": {
      "name": "python"
    }
  },
  "cells": [
    {
      "cell_type": "code",
      "execution_count": 3,
      "metadata": {
        "colab": {
          "base_uri": "https://localhost:8080/"
        },
        "id": "9GkExWVt4i5d",
        "outputId": "e0c1f64a-061e-4f47-ded3-532b053f9ffb"
      },
      "outputs": [
        {
          "output_type": "stream",
          "name": "stdout",
          "text": [
            "Hello i am learning python...\n"
          ]
        }
      ],
      "source": [
        "# Functions as first class objects\n",
        "\n",
        "def say_hello():\n",
        "  print(\"Hello i am learning python...\")\n",
        "greet = say_hello\n",
        "\n",
        "say_hello()"
      ]
    },
    {
      "cell_type": "code",
      "source": [
        "# Passing functions as arguments\n",
        "def add(x, y):\n",
        "  return x + y\n",
        "def operate_numbers(f, a, b):\n",
        "  return f(a, b)\n",
        "\n",
        "result = operate_numbers(add, 2, 3)\n",
        "print(result)"
      ],
      "metadata": {
        "colab": {
          "base_uri": "https://localhost:8080/"
        },
        "id": "X6Xa7W1L6tD2",
        "outputId": "1b76d572-82e2-4f07-a5e9-489b0580cce3"
      },
      "execution_count": 6,
      "outputs": [
        {
          "output_type": "stream",
          "name": "stdout",
          "text": [
            "5\n"
          ]
        }
      ]
    },
    {
      "cell_type": "code",
      "source": [
        "# Returning functions from other functions\n",
        "\n",
        "def multiplier(factor):\n",
        "  def multiply(num):\n",
        "    return num * factor\n",
        "  return multiply\n",
        "\n",
        "double = multiplier(2)\n",
        "\n",
        "print(double(5))"
      ],
      "metadata": {
        "colab": {
          "base_uri": "https://localhost:8080/"
        },
        "id": "lFuqhlNG76Qk",
        "outputId": "6a5ae7bc-02e4-4fa6-abf8-849c0c570871"
      },
      "execution_count": 8,
      "outputs": [
        {
          "output_type": "stream",
          "name": "stdout",
          "text": [
            "10\n"
          ]
        }
      ]
    },
    {
      "cell_type": "code",
      "source": [
        "# Recursive function\n",
        "\n",
        "def factorial(n):\n",
        "  if n <= 1:\n",
        "    return 1\n",
        "  return n * factorial(n - 1)\n",
        "\n",
        "print(factorial(5))"
      ],
      "metadata": {
        "colab": {
          "base_uri": "https://localhost:8080/"
        },
        "id": "B0_JCmsf81vG",
        "outputId": "5075e80e-dbe2-44d0-85bc-291007b2a8b7"
      },
      "execution_count": 3,
      "outputs": [
        {
          "output_type": "stream",
          "name": "stdout",
          "text": [
            "120\n"
          ]
        }
      ]
    },
    {
      "cell_type": "code",
      "source": [
        "# Doc strings\n",
        "\n",
        "def calculator(values):\n",
        "  \"\"\"This function is used for calculations\"\"\"\n",
        "  pass\n",
        "\n",
        "help(calculator)"
      ],
      "metadata": {
        "colab": {
          "base_uri": "https://localhost:8080/"
        },
        "id": "W5_l2yG59R0k",
        "outputId": "979261cc-4bb3-4f1e-d4a7-5e59d05ce192"
      },
      "execution_count": 4,
      "outputs": [
        {
          "output_type": "stream",
          "name": "stdout",
          "text": [
            "Help on function calculator in module __main__:\n",
            "\n",
            "calculator(values)\n",
            "    This function is used for calculations\n",
            "\n"
          ]
        }
      ]
    },
    {
      "cell_type": "code",
      "source": [
        "# Local and global scopes\n",
        "\n",
        "# Local\n",
        "def calculator():\n",
        "  a = 10\n",
        "  b = 20\n",
        "  print(f\"Addidtion of two numbers are: {a+b}\")\n",
        "\n",
        "calculator()"
      ],
      "metadata": {
        "colab": {
          "base_uri": "https://localhost:8080/"
        },
        "id": "qD2whws492Jo",
        "outputId": "531ad1fe-95a2-4f27-ea68-6882e1c2b95e"
      },
      "execution_count": 6,
      "outputs": [
        {
          "output_type": "stream",
          "name": "stdout",
          "text": [
            "Addidtion of two numbers are:  30\n"
          ]
        }
      ]
    },
    {
      "cell_type": "code",
      "source": [
        "# Global\n",
        "a = 10\n",
        "b = 20\n",
        "def calculator():\n",
        "  print(f\"Addidtion of two numbers are: {a+b}\")\n",
        "\n",
        "calculator()"
      ],
      "metadata": {
        "colab": {
          "base_uri": "https://localhost:8080/"
        },
        "id": "WrwqSSoL-7Ko",
        "outputId": "a443286f-cf3c-4145-85b4-d129b221d475"
      },
      "execution_count": 9,
      "outputs": [
        {
          "output_type": "stream",
          "name": "stdout",
          "text": [
            "Addidtion of two numbers are: 30\n"
          ]
        }
      ]
    },
    {
      "cell_type": "code",
      "source": [
        "def outer():\n",
        "  x = 5\n",
        "  def inner():\n",
        "    nonlocal x\n",
        "    x = 10\n",
        "  inner()\n",
        "  print(\"Outer function x is: \", x)\n",
        "outer()"
      ],
      "metadata": {
        "colab": {
          "base_uri": "https://localhost:8080/"
        },
        "id": "mZ00aqfp_ZUh",
        "outputId": "b4ee15c9-35eb-4d60-ee3c-d5698a655414"
      },
      "execution_count": 12,
      "outputs": [
        {
          "output_type": "stream",
          "name": "stdout",
          "text": [
            "Outer function x is:  10\n"
          ]
        }
      ]
    },
    {
      "cell_type": "code",
      "source": [
        "import numpy as np"
      ],
      "metadata": {
        "id": "vB6biKZwBRHn"
      },
      "execution_count": 14,
      "outputs": []
    },
    {
      "cell_type": "code",
      "source": [
        "# Python list and numpy array\n",
        "\n",
        "py_list = [1, 2, 3, 4, 5]\n",
        "np_array = np.array([1, 2, 3, 4, 5])\n",
        "\n",
        "print(type(py_list))\n",
        "print(type(np_array))"
      ],
      "metadata": {
        "colab": {
          "base_uri": "https://localhost:8080/"
        },
        "id": "WblI6AmvA3bb",
        "outputId": "c81b79a4-8a75-4aee-f8cb-c39835ba1441"
      },
      "execution_count": 18,
      "outputs": [
        {
          "output_type": "stream",
          "name": "stdout",
          "text": [
            "<class 'list'>\n",
            "<class 'numpy.ndarray'>\n"
          ]
        }
      ]
    },
    {
      "cell_type": "code",
      "source": [
        "# 1D Array\n",
        "arr_1d = np.array([1, 2, 3, 4, 5])\n",
        "print(arr_1d)\n",
        "\n",
        "# 2D array\n",
        "arr_2d = np.array([[1, 2, 3],  # 2 x 3 matrix\n",
        "                   [4, 5, 6]])\n",
        "print(arr_2d)\n",
        "print(arr_2d.ndim)\n",
        "\n"
      ],
      "metadata": {
        "colab": {
          "base_uri": "https://localhost:8080/"
        },
        "id": "I5dxrJN3BTrF",
        "outputId": "5eed813a-06ee-40c0-fcac-8cbcb6e0fe42"
      },
      "execution_count": 19,
      "outputs": [
        {
          "output_type": "stream",
          "name": "stdout",
          "text": [
            "[1 2 3 4 5]\n",
            "[[1 2 3]\n",
            " [4 5 6]]\n",
            "2\n"
          ]
        }
      ]
    },
    {
      "cell_type": "code",
      "source": [
        "# Arrays filled with zeros\n",
        "zeros_array = np.zeros((2, 3))\n",
        "print(zeros_array)\n",
        "\n",
        "# Arrays filled with ones\n",
        "ones_array = np.ones((2, 3))\n",
        "print(ones_array)\n",
        "\n",
        "# Arrays filled with nines\n",
        "nines_array = np.full((2, 3), 9)\n",
        "print(nines_array)"
      ],
      "metadata": {
        "colab": {
          "base_uri": "https://localhost:8080/"
        },
        "id": "bpoN_fyGCJ7d",
        "outputId": "a3aba3c0-0cbb-4be1-ccc3-8cb22bd588b0"
      },
      "execution_count": 22,
      "outputs": [
        {
          "output_type": "stream",
          "name": "stdout",
          "text": [
            "[[0. 0. 0.]\n",
            " [0. 0. 0.]]\n",
            "[[1. 1. 1.]\n",
            " [1. 1. 1.]]\n",
            "[[9 9 9]\n",
            " [9 9 9]]\n"
          ]
        }
      ]
    },
    {
      "cell_type": "code",
      "source": [
        "# Arrays filled with evenly spaced values\n",
        "linspace_array = np.linspace(1, 10, 5)\n",
        "print(linspace_array)\n",
        "\n",
        "# Arrays filled with a range of numbers\n",
        "arange_array = np.arange(2, 20, 10)\n",
        "print(arange_array)\n",
        "\n",
        "# A function that calls linspace and arange for 3 parameters\n",
        "def array_function(n1, n2, n3):\n",
        "  linspace_array = np.linspace(n1, n2, n3)\n",
        "  print(linspace_array)\n",
        "  arange_array = np.arange(n1, n2, n3)\n",
        "  print(arange_array)\n",
        "array_function(1, 10, 5)\n",
        "\n"
      ],
      "metadata": {
        "colab": {
          "base_uri": "https://localhost:8080/"
        },
        "id": "siFpBZNPCoIk",
        "outputId": "1ee4114d-aa47-463d-cf2f-bd6c784f0497"
      },
      "execution_count": 28,
      "outputs": [
        {
          "output_type": "stream",
          "name": "stdout",
          "text": [
            "[ 1.    3.25  5.5   7.75 10.  ]\n",
            "[ 2 12]\n",
            "[ 1.    3.25  5.5   7.75 10.  ]\n",
            "[1 6]\n"
          ]
        }
      ]
    },
    {
      "cell_type": "code",
      "source": [
        "# Create a random array\n",
        "# between 0 & 1\n",
        "random_array = np.random.rand(3, 3)\n",
        "print(random_array)\n",
        "\n",
        "# between 1 & 99\n",
        "random_array = np.random.randint(1, 100, (3, 3))\n",
        "print(random_array)"
      ],
      "metadata": {
        "colab": {
          "base_uri": "https://localhost:8080/"
        },
        "id": "p9r2SELXDTul",
        "outputId": "6a026d5c-01e2-475c-b3a8-c7d5b8c4ab25"
      },
      "execution_count": 29,
      "outputs": [
        {
          "output_type": "stream",
          "name": "stdout",
          "text": [
            "[[0.70617892 0.96976855 0.81745549]\n",
            " [0.21883762 0.25347316 0.48878885]\n",
            " [0.55181442 0.45717874 0.53000144]]\n",
            "[[26 91 95]\n",
            " [36 85 85]\n",
            " [65 12  1]]\n"
          ]
        }
      ]
    },
    {
      "cell_type": "code",
      "source": [
        "# Shape, size and dimension of array\n",
        "arr = np.array([[1,2,3],\n",
        "                [3,4,5]])\n",
        "print(arr.shape)\n",
        "print(arr.size)\n",
        "print(arr.ndim)"
      ],
      "metadata": {
        "colab": {
          "base_uri": "https://localhost:8080/"
        },
        "id": "ofEOzqZ-FJvh",
        "outputId": "3b121546-c36b-4952-f619-892b29082ef6"
      },
      "execution_count": 30,
      "outputs": [
        {
          "output_type": "stream",
          "name": "stdout",
          "text": [
            "(2, 3)\n",
            "6\n",
            "2\n"
          ]
        }
      ]
    },
    {
      "cell_type": "code",
      "source": [
        "# Reshaping the arrays\n",
        "\n",
        "arr = np.array([1,2,3,4,5,6])\n",
        "\n",
        "arr_reshaped = arr.reshape((2, 3))\n",
        "print(arr_reshaped)"
      ],
      "metadata": {
        "colab": {
          "base_uri": "https://localhost:8080/"
        },
        "id": "s7weFY_FFqm8",
        "outputId": "bdcc824b-c678-45f8-af9f-2e25243a8e81"
      },
      "execution_count": 31,
      "outputs": [
        {
          "output_type": "stream",
          "name": "stdout",
          "text": [
            "[[1 2 3]\n",
            " [4 5 6]]\n"
          ]
        }
      ]
    },
    {
      "cell_type": "code",
      "source": [
        "arr1 = np.array([1,2,3])\n",
        "arr2 = np.array([4,5,6])\n",
        "\n",
        "print (arr1 + arr2)"
      ],
      "metadata": {
        "colab": {
          "base_uri": "https://localhost:8080/"
        },
        "id": "AfhIDKLIGLvd",
        "outputId": "99f50148-bc3d-4c9c-e436-1ceb810e5bf8"
      },
      "execution_count": 32,
      "outputs": [
        {
          "output_type": "stream",
          "name": "stdout",
          "text": [
            "[5 7 9]\n"
          ]
        }
      ]
    },
    {
      "cell_type": "code",
      "source": [
        "# min, max, sum\n",
        "arr = np.array([[1, 2, 3],\n",
        "                [3, 4, 5]])\n",
        "print(np.max(arr))\n",
        "print(np.min(arr))\n",
        "print(np.sum(arr))"
      ],
      "metadata": {
        "colab": {
          "base_uri": "https://localhost:8080/"
        },
        "id": "wzdfRkHqGQ48",
        "outputId": "0bed6a2d-6f4e-4c92-e6b2-6e744c4265bf"
      },
      "execution_count": 40,
      "outputs": [
        {
          "output_type": "stream",
          "name": "stdout",
          "text": [
            "5\n",
            "1\n",
            "18\n"
          ]
        }
      ]
    },
    {
      "cell_type": "code",
      "source": [
        "# Array indexing\n",
        "arr = np.array([[1,2,3],\n",
        "                [3,4,5]])\n",
        "print(arr[-1, -1])"
      ],
      "metadata": {
        "colab": {
          "base_uri": "https://localhost:8080/"
        },
        "id": "QMEdziBkG1Ov",
        "outputId": "2e10a644-a0b9-46c4-857f-e3670ebaf4b3"
      },
      "execution_count": 46,
      "outputs": [
        {
          "output_type": "stream",
          "name": "stdout",
          "text": [
            "5\n"
          ]
        }
      ]
    },
    {
      "cell_type": "code",
      "source": [
        "# Array slicling\n",
        "arr1 = np.array([1,2,3])\n",
        "print(arr[::-1])\n",
        "\n",
        "arr2 = np.array([[1,2,3],\n",
        "                [3,4,5]])\n",
        "print(arr2[:, 1:])"
      ],
      "metadata": {
        "colab": {
          "base_uri": "https://localhost:8080/"
        },
        "id": "ClQJqjcVHkKb",
        "outputId": "c21b20de-3482-48ef-edb8-e606312b7ada"
      },
      "execution_count": 53,
      "outputs": [
        {
          "output_type": "stream",
          "name": "stdout",
          "text": [
            "[3 2 1]\n",
            "[[2 3]\n",
            " [4 5]]\n"
          ]
        }
      ]
    },
    {
      "cell_type": "code",
      "source": [
        "# Conditional filtering with np.where()\n",
        "arr = np.array([1,2,3])\n",
        "result = np.where(arr > 1)\n",
        "print(result)"
      ],
      "metadata": {
        "colab": {
          "base_uri": "https://localhost:8080/"
        },
        "id": "LFSdgIphIEUA",
        "outputId": "a7245e04-5497-4a4c-ab08-113dbcc7fe33"
      },
      "execution_count": 59,
      "outputs": [
        {
          "output_type": "stream",
          "name": "stdout",
          "text": [
            "(array([1, 2]),)\n"
          ]
        }
      ]
    },
    {
      "cell_type": "code",
      "source": [
        "# np.take()\n",
        "arr = np.array([1,2,3])\n",
        "result = np.take(arr, [0, 2])\n",
        "print(result)\n",
        "\n",
        "np.put(arr, [0, 1], [10, 20])\n",
        "print(arr)"
      ],
      "metadata": {
        "colab": {
          "base_uri": "https://localhost:8080/"
        },
        "id": "O1eVU5hRI4uA",
        "outputId": "122e19f4-2c2b-4b68-a597-e1ebc5a7ecc2"
      },
      "execution_count": 58,
      "outputs": [
        {
          "output_type": "stream",
          "name": "stdout",
          "text": [
            "[1 3]\n",
            "[10 20  3]\n"
          ]
        }
      ]
    }
  ]
}