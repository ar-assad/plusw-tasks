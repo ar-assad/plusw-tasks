{
 "cells": [
  {
   "cell_type": "markdown",
   "metadata": {},
   "source": [
    "# Todo List Application"
   ]
  },
  {
   "cell_type": "code",
   "execution_count": 1,
   "metadata": {},
   "outputs": [
    {
     "name": "stdout",
     "output_type": "stream",
     "text": [
      "Finish homework\n",
      "Buy groceries\n",
      "Finish homework\n"
     ]
    }
   ],
   "source": [
    "# Initialize an Empty List\n",
    "tasks = []  # This list will store the tasks added by the user.\n",
    "\n",
    "# Define a Function to Add Tasks\n",
    "def add_task(task):\n",
    "    tasks.append(task)\n",
    "\n",
    "# Define a Function to Remove Tasks\n",
    "def remove_task(task):\n",
    "    if task in tasks:\n",
    "        tasks.remove(task)\n",
    "\n",
    "# Define a Function to View Tasks\n",
    "def view_tasks():\n",
    "    for task in tasks:\n",
    "        print(task)\n",
    "\n",
    "# Example Usage\n",
    "add_task(\"Finish homework\")\n",
    "add_task(\"Buy groceries\")\n",
    "view_tasks()\n",
    "remove_task(\"Buy groceries\")\n",
    "view_tasks()"
   ]
  },
  {
   "cell_type": "markdown",
   "metadata": {},
   "source": [
    "# Maximum and Minimum Finder"
   ]
  },
  {
   "cell_type": "code",
   "execution_count": 2,
   "metadata": {},
   "outputs": [
    {
     "name": "stdout",
     "output_type": "stream",
     "text": [
      "Max: 9, Min: 1\n"
     ]
    }
   ],
   "source": [
    "# Define the Function\n",
    "def find_max_min(lst):\n",
    "    # Initialize max_val and min_val\n",
    "    max_val = lst[0]\n",
    "    min_val = lst[0]\n",
    "    \n",
    "    # Iterate Through the List\n",
    "    for num in lst:\n",
    "        # Compare Each Number to Find Maximum and Minimum\n",
    "        if num > max_val:\n",
    "            max_val = num\n",
    "        if num < min_val:\n",
    "            min_val = num\n",
    "    \n",
    "    # Return the Maximum and Minimum Values\n",
    "    return max_val, min_val\n",
    "\n",
    "# Define a List and Call the Function\n",
    "numbers = [3, 9, 2, 8, 1]\n",
    "max_val, min_val = find_max_min(numbers)\n",
    "print(f\"Max: {max_val}, Min: {min_val}\")"
   ]
  },
  {
   "cell_type": "markdown",
   "metadata": {},
   "source": [
    "# Phonebook Application"
   ]
  },
  {
   "cell_type": "code",
   "execution_count": 3,
   "metadata": {},
   "outputs": [
    {
     "name": "stdout",
     "output_type": "stream",
     "text": [
      "1234567890\n"
     ]
    }
   ],
   "source": [
    "# Initialize an Empty Dictionary\n",
    "phonebook = {}\n",
    "\n",
    "# Define a Function to Add Contacts\n",
    "def add_contact(name, number):\n",
    "    phonebook[name] = number\n",
    "\n",
    "# Define a Function to Retrieve a Phone Number\n",
    "def get_number(name):\n",
    "    return phonebook.get(name, \"Contact not found\")\n",
    "\n",
    "# Example Usage\n",
    "add_contact(\"Alice\", \"1234567890\")\n",
    "add_contact(\"Bob\", \"9876543210\")\n",
    "print(get_number(\"Alice\"))"
   ]
  },
  {
   "cell_type": "markdown",
   "metadata": {},
   "source": [
    "# Inventory Management System"
   ]
  },
  {
   "cell_type": "code",
   "execution_count": 4,
   "metadata": {},
   "outputs": [
    {
     "name": "stdout",
     "output_type": "stream",
     "text": [
      "Apple: 7\n",
      "Banana: 5\n"
     ]
    }
   ],
   "source": [
    "# Initialize an Empty Dictionary\n",
    "inventory = {}\n",
    "\n",
    "# Define a Function to Add Items\n",
    "def add_item(item, quantity):\n",
    "    # Check if the Item Exists in inventory and If the Item Does Not Exist, Add It\n",
    "    if item in inventory:\n",
    "        inventory[item] += quantity\n",
    "    else:\n",
    "        inventory[item] = quantity\n",
    "\n",
    "# Define a Function to Remove Items\n",
    "def remove_item(item, quantity):\n",
    "    # Check If the Item Exists and Has Enough Quantity and Decrease the Quantity\n",
    "    if item in inventory and inventory[item] >= quantity:\n",
    "        inventory[item] -= quantity\n",
    "        # If the Quantity Becomes Zero, Remove the Item\n",
    "        if inventory[item] == 0:\n",
    "            del inventory[item]\n",
    "    else:\n",
    "        print(f\"Insufficient quantity of {item}.\")\n",
    "\n",
    "# Define a Function to View Inventory\n",
    "def view_inventory():\n",
    "    # Loop Through the Inventory\n",
    "    for item, quantity in inventory.items():\n",
    "        print(f\"{item}: {quantity}\")\n",
    "\n",
    "# Example Usage\n",
    "add_item(\"Apple\", 10)\n",
    "add_item(\"Banana\", 5)\n",
    "remove_item(\"Apple\", 3)\n",
    "view_inventory()"
   ]
  },
  {
   "cell_type": "markdown",
   "metadata": {},
   "source": [
    "# ATM System Simulation"
   ]
  },
  {
   "cell_type": "code",
   "execution_count": 5,
   "metadata": {},
   "outputs": [
    {
     "name": "stdout",
     "output_type": "stream",
     "text": [
      "Deposited: 500. New balance: 1500\n",
      "Withdrew: 200. New balance: 1300\n",
      "Current balance: 1300\n"
     ]
    }
   ],
   "source": [
    "# ATM System Simulation with Global Variables\n",
    "\n",
    "# Define a Function to Deposit Money\n",
    "def deposit(balance, amount):\n",
    "    balance += amount\n",
    "    print(f\"Deposited: {amount}. New balance: {balance}\")\n",
    "    return balance  # Return the updated balance\n",
    "\n",
    "# Define a Function to Withdraw Money\n",
    "def withdraw(balance, amount):\n",
    "    if amount <= balance:\n",
    "        balance -= amount\n",
    "        print(f\"Withdrew: {amount}. New balance: {balance}\")\n",
    "    else:\n",
    "        print(\"Insufficient funds\")\n",
    "    return balance  # Return the updated balance\n",
    "\n",
    "# Define a Function to Check Balance\n",
    "def check_balance(balance):\n",
    "    print(f\"Current balance: {balance}\")\n",
    "\n",
    "# Example Usage\n",
    "balance = 1000  # Initial balance\n",
    "\n",
    "balance = deposit(balance, 500)  # Deposit money\n",
    "balance = withdraw(balance, 200)  # Withdraw money\n",
    "check_balance(balance)  # Check balance"
   ]
  }
 ],
 "metadata": {
  "kernelspec": {
   "display_name": "Python 3",
   "language": "python",
   "name": "python3"
  },
  "language_info": {
   "codemirror_mode": {
    "name": "ipython",
    "version": 3
   },
   "file_extension": ".py",
   "mimetype": "text/x-python",
   "name": "python",
   "nbconvert_exporter": "python",
   "pygments_lexer": "ipython3",
   "version": "3.12.9"
  }
 },
 "nbformat": 4,
 "nbformat_minor": 2
}
