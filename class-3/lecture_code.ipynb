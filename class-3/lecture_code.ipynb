{
  "nbformat": 4,
  "nbformat_minor": 0,
  "metadata": {
    "colab": {
      "provenance": []
    },
    "kernelspec": {
      "name": "python3",
      "display_name": "Python 3"
    },
    "language_info": {
      "name": "python"
    }
  },
  "cells": [
    {
      "cell_type": "code",
      "execution_count": null,
      "metadata": {
        "colab": {
          "base_uri": "https://localhost:8080/"
        },
        "id": "q5GcFEpq4IjH",
        "outputId": "f249a84d-0b59-4afd-a8b9-9dde456efdda"
      },
      "outputs": [
        {
          "output_type": "stream",
          "name": "stdout",
          "text": [
            "21\n",
            "You are eligible for the vote\n"
          ]
        }
      ],
      "source": [
        "#conditional statement\n",
        "age = input()\n",
        "if int(age) >= 21:\n",
        "  print(\"You are eligible for the vote\")"
      ]
    },
    {
      "cell_type": "code",
      "source": [
        "#if-else statement\n",
        "age = input(\"Enter you age: \")\n",
        "if int(age) >= 21:\n",
        "  print(\"You are eligible for the vote\")\n",
        "else:\n",
        "  print(\"You are not eligible for the vote\")"
      ],
      "metadata": {
        "colab": {
          "base_uri": "https://localhost:8080/"
        },
        "id": "2E9_82DD4RcL",
        "outputId": "4c749a37-8adc-46e0-f7dc-3c97c9f664ee"
      },
      "execution_count": null,
      "outputs": [
        {
          "output_type": "stream",
          "name": "stdout",
          "text": [
            "Enter you age: 10\n",
            "You are not eligible for the vote\n"
          ]
        }
      ]
    },
    {
      "cell_type": "code",
      "source": [
        "# if elif\n",
        "marks = int(input(\"Enter your marks: \"))\n",
        "if marks >= 90:\n",
        "  print(\"Grade: A\")\n",
        "elif marks >= 80:\n",
        "  print(\"Grade: B\")\n",
        "elif marks >= 70:\n",
        "  print(\"Grade: C\")\n",
        "elif marks >= 60:\n",
        "  print(\"Grade: D\")\n",
        "else:\n",
        "  print(\"Grade: F\")"
      ],
      "metadata": {
        "colab": {
          "base_uri": "https://localhost:8080/"
        },
        "id": "nOTKM8nsFxel",
        "outputId": "349c2f6b-f855-48d7-95a1-0a8ddd0507a2"
      },
      "execution_count": null,
      "outputs": [
        {
          "output_type": "stream",
          "name": "stdout",
          "text": [
            "Enter your marks: 85\n",
            "Grade: B\n"
          ]
        }
      ]
    },
    {
      "cell_type": "code",
      "source": [
        "#nested if\n",
        "num = int(input(\"Enter number: \"))\n",
        "if num > 5:\n",
        "  if num % 2 == 0:\n",
        "    print(\"Even number is greater than 5\")\n",
        "  else:\n",
        "    print(\"Odd number is greater than 5\")\n",
        "else:\n",
        "  print(\"Number is less than 5\")"
      ],
      "metadata": {
        "colab": {
          "base_uri": "https://localhost:8080/"
        },
        "id": "6lZz8jK152-e",
        "outputId": "69d6aa08-78b2-4f59-ec3e-d3035800362c"
      },
      "execution_count": null,
      "outputs": [
        {
          "output_type": "stream",
          "name": "stdout",
          "text": [
            "Enter number: 10\n",
            "Even number is greater than 5\n"
          ]
        }
      ]
    },
    {
      "cell_type": "code",
      "source": [
        "# Ternary Operator\n",
        "age = 30\n",
        "message = \"Adult\" if age >= 18 else \"Not Adult\"\n",
        "print(message)"
      ],
      "metadata": {
        "colab": {
          "base_uri": "https://localhost:8080/"
        },
        "id": "eXx2iW1_6Yys",
        "outputId": "48ea67a3-684d-43f0-ca6c-55296085c982"
      },
      "execution_count": null,
      "outputs": [
        {
          "output_type": "stream",
          "name": "stdout",
          "text": [
            "Adult\n"
          ]
        }
      ]
    },
    {
      "cell_type": "code",
      "source": [
        "#match-case\n",
        "color = input(\"Enter your color: \")\n",
        "match color.lower():\n",
        "  case 'red':\n",
        "    print(\"Stop\")\n",
        "  case 'yellow':\n",
        "    print(\"Ready\")\n",
        "  case 'green':\n",
        "    print(\"Go\")\n",
        "  case _:\n",
        "    print(\"Invalid color\")"
      ],
      "metadata": {
        "colab": {
          "base_uri": "https://localhost:8080/"
        },
        "id": "IjEYkcef7xKG",
        "outputId": "226ac349-87a7-4319-d3c3-a9e12a5eec57"
      },
      "execution_count": null,
      "outputs": [
        {
          "output_type": "stream",
          "name": "stdout",
          "text": [
            "Enter your color: Yellow\n",
            "Ready\n"
          ]
        }
      ]
    },
    {
      "cell_type": "code",
      "source": [
        "# for loop\n",
        "fruits = ['apple', 'banana', 'cherry']\n",
        "for fruit in fruits:\n",
        "  print(fruit)"
      ],
      "metadata": {
        "colab": {
          "base_uri": "https://localhost:8080/"
        },
        "id": "rIavwBbw8Nd3",
        "outputId": "064d9ee4-1d90-47b1-d259-fd03c087cc4a"
      },
      "execution_count": null,
      "outputs": [
        {
          "output_type": "stream",
          "name": "stdout",
          "text": [
            "apple\n",
            "banana\n",
            "cherry\n"
          ]
        }
      ]
    },
    {
      "cell_type": "code",
      "source": [
        "# looping on a string\n",
        "fruit = \"Apple\"\n",
        "for char in fruit:\n",
        "  print(char)"
      ],
      "metadata": {
        "colab": {
          "base_uri": "https://localhost:8080/"
        },
        "id": "mcS_qjUG9htU",
        "outputId": "ec23d17a-6298-4c1c-d476-2444f91e7f89"
      },
      "execution_count": null,
      "outputs": [
        {
          "output_type": "stream",
          "name": "stdout",
          "text": [
            "A\n",
            "p\n",
            "p\n",
            "l\n",
            "e\n"
          ]
        }
      ]
    },
    {
      "cell_type": "code",
      "source": [
        "# for loop in a dictionary\n",
        "dict = {\"fruit\": \"Apple\", \"car\": \"Suzuki\", \"city\": \"Tokyo\"}\n",
        "for key, value in dict.items():\n",
        "  print(f\"{key}: {value}\")"
      ],
      "metadata": {
        "colab": {
          "base_uri": "https://localhost:8080/"
        },
        "id": "pFAc3swN9lns",
        "outputId": "62a52506-59eb-43ee-a9a1-ed668e5dd2d4"
      },
      "execution_count": null,
      "outputs": [
        {
          "output_type": "stream",
          "name": "stdout",
          "text": [
            "fruit: Apple\n",
            "car: Suzuki\n",
            "city: Tokyo\n"
          ]
        }
      ]
    },
    {
      "cell_type": "code",
      "source": [
        "# range function\n",
        "for i in range(1, 11):\n",
        "  print(i)"
      ],
      "metadata": {
        "colab": {
          "base_uri": "https://localhost:8080/"
        },
        "id": "pFAghkI499VG",
        "outputId": "fbf9205c-552f-4ad1-ec17-5ca622b0a2d1"
      },
      "execution_count": null,
      "outputs": [
        {
          "output_type": "stream",
          "name": "stdout",
          "text": [
            "1\n",
            "2\n",
            "3\n",
            "4\n",
            "5\n",
            "6\n",
            "7\n",
            "8\n",
            "9\n",
            "10\n"
          ]
        }
      ]
    },
    {
      "cell_type": "code",
      "source": [
        "# while loop\n",
        "count = 0\n",
        "while count < 5:\n",
        "  print(f\"count: {count}\")\n",
        "  count += 1"
      ],
      "metadata": {
        "colab": {
          "base_uri": "https://localhost:8080/"
        },
        "id": "a8SusiIo-Sd1",
        "outputId": "27fb72f1-192c-4559-e787-351872b478f3"
      },
      "execution_count": null,
      "outputs": [
        {
          "output_type": "stream",
          "name": "stdout",
          "text": [
            "count: 0\n",
            "count: 1\n",
            "count: 2\n",
            "count: 3\n",
            "count: 4\n"
          ]
        }
      ]
    },
    {
      "cell_type": "code",
      "source": [
        "# Infinite loop\n",
        "while True:\n",
        "  user_input = input(\"Enter q to exit: \")\n",
        "  if user_input == 'q':\n",
        "    print(\"Exiting the loop...\")\n",
        "    break"
      ],
      "metadata": {
        "colab": {
          "base_uri": "https://localhost:8080/"
        },
        "id": "AwpodBHL_5sE",
        "outputId": "9472e84f-42f1-4b4d-d4a9-c740868b3886"
      },
      "execution_count": null,
      "outputs": [
        {
          "output_type": "stream",
          "name": "stdout",
          "text": [
            "Enter q to exit: q\n",
            "Exiting the loop...\n"
          ]
        }
      ]
    },
    {
      "cell_type": "code",
      "source": [
        "for i in range(10):\n",
        "  if i == 5:\n",
        "    break\n",
        "  print(i)"
      ],
      "metadata": {
        "colab": {
          "base_uri": "https://localhost:8080/"
        },
        "id": "5IUzzr_g_bys",
        "outputId": "315be230-4c93-4abf-c3dd-eeb6db960115"
      },
      "execution_count": null,
      "outputs": [
        {
          "output_type": "stream",
          "name": "stdout",
          "text": [
            "0\n",
            "1\n",
            "2\n",
            "3\n",
            "4\n"
          ]
        }
      ]
    },
    {
      "cell_type": "code",
      "source": [
        "# Loop inside loop\n",
        "for i in range(3):\n",
        "  for j in range(2):\n",
        "    print(f\"{i} {j}\")\n",
        "    # 3 x 2 matrix"
      ],
      "metadata": {
        "colab": {
          "base_uri": "https://localhost:8080/"
        },
        "id": "WZooQUw9AWas",
        "outputId": "7c4ff35f-a4e8-41de-a342-1e9cd1b8a953"
      },
      "execution_count": null,
      "outputs": [
        {
          "output_type": "stream",
          "name": "stdout",
          "text": [
            "0 0\n",
            "0 1\n",
            "1 0\n",
            "1 1\n",
            "2 0\n",
            "2 1\n"
          ]
        }
      ]
    },
    {
      "cell_type": "code",
      "source": [
        "for i in range(1, 6):\n",
        "  for j in range (1, 11):\n",
        "    print(f\"{i} x {j} = {i*j}\")\n",
        "  print()"
      ],
      "metadata": {
        "colab": {
          "base_uri": "https://localhost:8080/"
        },
        "id": "iKytw6uwAhDe",
        "outputId": "2524c68c-2d12-4bd5-ea7e-4378691dfc3c"
      },
      "execution_count": null,
      "outputs": [
        {
          "output_type": "stream",
          "name": "stdout",
          "text": [
            "1 x 1 = 1\n",
            "1 x 2 = 2\n",
            "1 x 3 = 3\n",
            "1 x 4 = 4\n",
            "1 x 5 = 5\n",
            "1 x 6 = 6\n",
            "1 x 7 = 7\n",
            "1 x 8 = 8\n",
            "1 x 9 = 9\n",
            "1 x 10 = 10\n",
            "\n",
            "2 x 1 = 2\n",
            "2 x 2 = 4\n",
            "2 x 3 = 6\n",
            "2 x 4 = 8\n",
            "2 x 5 = 10\n",
            "2 x 6 = 12\n",
            "2 x 7 = 14\n",
            "2 x 8 = 16\n",
            "2 x 9 = 18\n",
            "2 x 10 = 20\n",
            "\n",
            "3 x 1 = 3\n",
            "3 x 2 = 6\n",
            "3 x 3 = 9\n",
            "3 x 4 = 12\n",
            "3 x 5 = 15\n",
            "3 x 6 = 18\n",
            "3 x 7 = 21\n",
            "3 x 8 = 24\n",
            "3 x 9 = 27\n",
            "3 x 10 = 30\n",
            "\n",
            "4 x 1 = 4\n",
            "4 x 2 = 8\n",
            "4 x 3 = 12\n",
            "4 x 4 = 16\n",
            "4 x 5 = 20\n",
            "4 x 6 = 24\n",
            "4 x 7 = 28\n",
            "4 x 8 = 32\n",
            "4 x 9 = 36\n",
            "4 x 10 = 40\n",
            "\n",
            "5 x 1 = 5\n",
            "5 x 2 = 10\n",
            "5 x 3 = 15\n",
            "5 x 4 = 20\n",
            "5 x 5 = 25\n",
            "5 x 6 = 30\n",
            "5 x 7 = 35\n",
            "5 x 8 = 40\n",
            "5 x 9 = 45\n",
            "5 x 10 = 50\n",
            "\n"
          ]
        }
      ]
    },
    {
      "cell_type": "code",
      "source": [
        "#Loop else statement\n",
        "for i in range(5):\n",
        "  print(i)\n",
        "else:\n",
        "  print(\"Loop completed\")"
      ],
      "metadata": {
        "colab": {
          "base_uri": "https://localhost:8080/"
        },
        "id": "HE6D_uCqBGuF",
        "outputId": "4dc193ff-74d4-45b6-8b37-c433a1bc6682"
      },
      "execution_count": null,
      "outputs": [
        {
          "output_type": "stream",
          "name": "stdout",
          "text": [
            "0\n",
            "1\n",
            "2\n",
            "3\n",
            "4\n",
            "Loop completed\n"
          ]
        }
      ]
    },
    {
      "cell_type": "code",
      "source": [
        "# Search functionality\n",
        "nums = [1, 2, 3, 4, 5]\n",
        "search = 7\n",
        "\n",
        "for num in nums:\n",
        "  if num == search:\n",
        "    print(f\"found {search}\")\n",
        "    break\n",
        "else:\n",
        "  print(f\"{search} number not found\")"
      ],
      "metadata": {
        "colab": {
          "base_uri": "https://localhost:8080/"
        },
        "id": "Uyl7h_XfBaFt",
        "outputId": "b1838df9-0f1f-428f-8a38-8cc780ca90c8"
      },
      "execution_count": null,
      "outputs": [
        {
          "output_type": "stream",
          "name": "stdout",
          "text": [
            "7 number not found\n"
          ]
        }
      ]
    },
    {
      "cell_type": "code",
      "source": [
        "# define functions in python\n",
        "def greet():\n",
        "  print(\"Hello, I am learning python...\")\n",
        "greet()"
      ],
      "metadata": {
        "colab": {
          "base_uri": "https://localhost:8080/"
        },
        "id": "EJucSCZ-BseG",
        "outputId": "942a5c8d-d9f9-4459-98b9-44ddfdd854fe"
      },
      "execution_count": null,
      "outputs": [
        {
          "output_type": "stream",
          "name": "stdout",
          "text": [
            "Hello, I am learning python...\n"
          ]
        }
      ]
    },
    {
      "cell_type": "code",
      "source": [
        "def greet(name):\n",
        "  print(f\"Hello, {name} is learning python...\")\n",
        "greet(\"Abdur Rehman\")"
      ],
      "metadata": {
        "colab": {
          "base_uri": "https://localhost:8080/"
        },
        "id": "7K61szcRCN_c",
        "outputId": "1bb88381-d51f-49e6-9e68-8e45cb6b635d"
      },
      "execution_count": null,
      "outputs": [
        {
          "output_type": "stream",
          "name": "stdout",
          "text": [
            "Hello, Abdur Rehman is learning python...\n"
          ]
        }
      ]
    },
    {
      "cell_type": "code",
      "source": [
        "# def add(a, b):\n",
        "#   return a + b\n",
        "# print(add(6, 4))\n",
        "\n",
        "def display_info(name, age=21):\n",
        "  print(f\"Name: {name}, Age: {age}\")\n",
        "display_info(name=\"Abdur Rehman\", age=20)"
      ],
      "metadata": {
        "colab": {
          "base_uri": "https://localhost:8080/"
        },
        "id": "2JRhdav6CWNO",
        "outputId": "5f3275c3-f242-45f2-b415-e4658f482656"
      },
      "execution_count": null,
      "outputs": [
        {
          "output_type": "stream",
          "name": "stdout",
          "text": [
            "Name: Abdur Rehman, Age: 20\n"
          ]
        }
      ]
    },
    {
      "cell_type": "code",
      "source": [
        "def my_function():\n",
        "  pass\n",
        "result = my_function()\n",
        "print(result)"
      ],
      "metadata": {
        "colab": {
          "base_uri": "https://localhost:8080/"
        },
        "id": "YZNS7f9YD8-_",
        "outputId": "1820b098-4d31-4d25-9e0f-3aad58c77cb7"
      },
      "execution_count": null,
      "outputs": [
        {
          "output_type": "stream",
          "name": "stdout",
          "text": [
            "None\n"
          ]
        }
      ]
    },
    {
      "cell_type": "code",
      "source": [
        "# Aribitrary arguments\n",
        "\n",
        "# def add(*args):\n",
        "#   total = 0\n",
        "#   for num in args:\n",
        "#     total += num\n",
        "#   return total\n",
        "# result = add(1, 2, 3, 4, 5)\n",
        "# print(result)\n",
        "\n",
        "def print_kwargs(**kwargs):\n",
        "  for key, value in kwargs.items():\n",
        "    print(f\"{key}: {value}\")\n",
        "print_kwargs(name=\"Abdur Rehman\", age = 20)"
      ],
      "metadata": {
        "colab": {
          "base_uri": "https://localhost:8080/"
        },
        "id": "r6FHQOvoEeL9",
        "outputId": "7c63aca4-2aad-4fa2-c20e-8786a1c486e5"
      },
      "execution_count": null,
      "outputs": [
        {
          "output_type": "stream",
          "name": "stdout",
          "text": [
            "name: Abdur Rehman\n",
            "age: 20\n"
          ]
        }
      ]
    },
    {
      "cell_type": "code",
      "source": [
        "# Lambda function\n",
        "\n",
        "square = lambda x: x ** 2\n",
        "result = square(5)\n",
        "print(result)"
      ],
      "metadata": {
        "colab": {
          "base_uri": "https://localhost:8080/"
        },
        "id": "1iWtnIsnE4et",
        "outputId": "f8b230e6-b912-4663-cf18-d0ced340fdc5"
      },
      "execution_count": null,
      "outputs": [
        {
          "output_type": "stream",
          "name": "stdout",
          "text": [
            "25\n"
          ]
        }
      ]
    }
  ]
}